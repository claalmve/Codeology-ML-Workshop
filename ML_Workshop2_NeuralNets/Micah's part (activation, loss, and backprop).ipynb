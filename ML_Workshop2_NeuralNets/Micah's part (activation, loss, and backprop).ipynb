{
 "cells": [
  {
   "cell_type": "markdown",
   "metadata": {},
   "source": [
    "# Activation Functions"
   ]
  },
  {
   "cell_type": "markdown",
   "metadata": {},
   "source": [
    "Activation functions are really important for a Artificial Neural Network to learn and make sense of something really complicated and Non-linear complex functional mappings between the inputs and response variable. They introduce non-linear properties to our Network. Their main purpose is to convert a input signal of a node in a A-NN to an output signal. That output signal now is used as a input in the next layer in the stack."
   ]
  },
  {
   "cell_type": "markdown",
   "metadata": {},
   "source": [
    "Specifically in A-NN we do the sum of products of inputs(X) and their corresponding Weights(W) and apply a Activation function f(x) to it to get the output of that layer and feed it as an input to the next layer."
   ]
  },
  {
   "cell_type": "markdown",
   "metadata": {},
   "source": [
    "If we do not apply a Activation function then the output signal would simply be a simple linear function. Linear functions have their use (as shown last time) but they are limited by their simplicity. Non-linear functions help to capture patterns in data that might be too complex for a linear model to recognize."
   ]
  },
  {
   "cell_type": "markdown",
   "metadata": {},
   "source": [
    "Also another important feature of a Activation function is that it should be differentiable for backpropagation later."
   ]
  },
  {
   "cell_type": "markdown",
   "metadata": {},
   "source": [
    "![y_hat](images/y_hat.png)"
   ]
  },
  {
   "cell_type": "markdown",
   "metadata": {},
   "source": [
    "### Sigmoid"
   ]
  },
  {
   "cell_type": "markdown",
   "metadata": {},
   "source": [
    "Sigmoid Activation function: It is a activation function of form f(x) = 1 / 1 + exp(-x) . Its Range is between 0 and 1. It is a S — shaped curve. It is easy to understand and apply but it has major reasons which have made it fall out of popularity -"
   ]
  },
  {
   "cell_type": "markdown",
   "metadata": {},
   "source": [
    "$$\n",
    "\\sigma (x) = \\frac{1}{1+e^{-x}} \\newline\n",
    "\\frac{d\\sigma (x)}{d(x)} = \\sigma (x)\\cdot (1-\\sigma(x))\n",
    "$$"
   ]
  },
  {
   "cell_type": "code",
   "execution_count": 45,
   "metadata": {},
   "outputs": [
    {
     "data": {
      "image/png": "[encoded data removed]",
      "text/plain": [
       "<Figure size 432x288 with 1 Axes>"
      ]
     },
     "metadata": {
      "needs_background": "light"
     },
     "output_type": "display_data"
    }
   ],
   "source": [
    "import numpy as np\n",
    "import matplotlib.pyplot as plt\n",
    "import math\n",
    "\n",
    "x = np.arange(-4, 4, 0.01)\n",
    "\n",
    "def sigmoid_array(x):                                        \n",
    "    return 1 / (1 + np.exp(-x))\n",
    "sig = sigmoid_array(x)\n",
    "plt.axvline(color='black')\n",
    "plt.axhline(color='black')\n",
    "plt.axhline(np.median(sig), color = 'g', linestyle = '--')\n",
    "plt.ylim(-.5, 1)\n",
    "plt.plot(x, sig)\n",
    "plt.show()"
   ]
  },
  {
   "cell_type": "markdown",
   "metadata": {},
   "source": [
    "### Relu"
   ]
  },
  {
   "cell_type": "markdown",
   "metadata": {},
   "source": [
    "It’s just R(x) = max(0,x) i.e if x < 0 , R(x) = 0 and if x >= 0 , R(x) = x. Hence as seeing the mathamatical form of this function we can see that it is very simple and efficinent . A lot of times in Machine learning and computer science we notice that most simple and consistent techniques and methods are only preferred and are best. Almost all deep learning Models use ReLu nowadays. But its limitation is that it should only be used within Hidden layers of a Neural Network Model."
   ]
  },
  {
   "cell_type": "code",
   "execution_count": 46,
   "metadata": {},
   "outputs": [
    {
     "data": {
      "image/png": "[encoded data removed]",
      "text/plain": [
       "<Figure size 432x288 with 1 Axes>"
      ]
     },
     "metadata": {
      "needs_background": "light"
     },
     "output_type": "display_data"
    }
   ],
   "source": [
    "x = np.arange(-4, 4, 0.01)\n",
    "\n",
    "def relu(x):                                        \n",
    "    return [max(0,elem) for elem in x]\n",
    "\n",
    "re = relu(x)\n",
    "plt.axvline(color='black', linestyle = \"--\")\n",
    "plt.axhline(color='black', linestyle = \"--\")\n",
    "plt.ylim(-.5, 1)\n",
    "plt.plot(x, re)\n",
    "plt.show()"
   ]
  },
  {
   "cell_type": "markdown",
   "metadata": {},
   "source": [
    "# Loss Functions"
   ]
  },
  {
   "cell_type": "markdown",
   "metadata": {},
   "source": [
    "In order to monitor our progress and make sure that we are moving in right direction, we should routinely calculate the value of the loss function. Generally speaking, the loss function is designed to show how far we are from the ‘ideal’ solution. It is selected according to the problem we plan to solve, and frameworks such as Pytorch have many options to choose from.\n"
   ]
  },
  {
   "cell_type": "markdown",
   "metadata": {},
   "source": [
    "Each of the neural network's weights receives an update proportional to the partial derivative of the loss function with respect to the current weight in each iteration of training\n",
    "\n",
    "Vanashing Gradient Problem: the gradient will be vanishingly small, effectively preventing the weight from changing its value."
   ]
  },
  {
   "cell_type": "markdown",
   "metadata": {},
   "source": [
    "$$\n",
    "\\begin{aligned}\n",
    "\\boldsymbol{\\mathcal{L}}(\\boldsymbol{\\theta})=\\frac{1}{n}\\sum_{i=1}^{n}L\\big(y^{(i)},f(\\mathbf{x}^{(i)},\\boldsymbol{\\theta})\\big)\\newline\n",
    "f(\\mathbf{x}^{(i)},\\boldsymbol{\\theta}) = \\hat{y}^{(i)} \\newline\n",
    "L\\big(y^{(i)},f(\\mathbf{x}^{(i)},\\boldsymbol{\\theta}))=\\frac{1}{n}\\sum_{i=1}^{n}(y^{(i)}-\\hat{y}^{(i)})^{2}\\newline\n",
    "\\frac{\\partial\\boldsymbol{\\mathcal{L}}}{\\partial\\boldsymbol{\\theta}}=-(y-\\sigma(\\mathbf{z}))\\cdot\\sigma’(\\mathbf{z})\\cdot\\mathbf{x}\n",
    "\\end{aligned}\n",
    "$$\n",
    "\n",
    "$$\n",
    "\\begin{aligned}\n",
    "\\boldsymbol{\\theta}^{*} & =\\arg\\min_{\\boldsymbol{\\theta}}\\boldsymbol{\\mathcal{L}}(\\boldsymbol{\\theta})+\\lambda\\cdot\\Phi(\\boldsymbol{\\theta})\\newline\n",
    "& =\\arg\\min_{\\boldsymbol{\\theta}}\\frac{1}{n}\\sum_{i=1}^{n}L\\big(y^{(i)},\\hat{y}^{(i)}\\big)+\\lambda\\cdot\\Phi(\\boldsymbol{\\theta})\\newline\n",
    "& =\\arg\\min_{\\boldsymbol{\\theta}}\\frac{1}{n}\\sum_{i=1}^{n}L\\big(y^{(i)},f(\\mathbf{x}^{(i)},\\boldsymbol{\\theta})\\big)+\\lambda\\cdot\\Phi(\\boldsymbol{\\theta})\n",
    "\\end{aligned}\n",
    "$$\n"
   ]
  },
  {
   "cell_type": "markdown",
   "metadata": {},
   "source": [
    "# Backpropagation"
   ]
  },
  {
   "cell_type": "markdown",
   "metadata": {},
   "source": [
    "Now that we’ve measured the error of our prediction (loss), we need to find a way to propagate the error back, and to update our weights and biases.\n",
    "In order to know the appropriate amount to adjust the weights and biases by, we need to know the derivative of the loss function with respect to the weights and biases.\n",
    "\n",
    "So, each iteration of the training process consists of the following steps:\n",
    "1. Calculating the predicted output ŷ, known as feedforward\n",
    "2. Updating the weights and biases, known as backpropagation"
   ]
  },
  {
   "cell_type": "markdown",
   "metadata": {},
   "source": [
    "![backprop](images/backprop.png)"
   ]
  },
  {
   "cell_type": "markdown",
   "metadata": {},
   "source": []
  }
 ],
 "metadata": {
  "kernelspec": {
   "display_name": "Python 3",
   "language": "python",
   "name": "python3"
  },
  "language_info": {
   "codemirror_mode": {
    "name": "ipython",
    "version": 3
   },
   "file_extension": ".py",
   "mimetype": "text/x-python",
   "name": "python",
   "nbconvert_exporter": "python",
   "pygments_lexer": "ipython3",
   "version": "3.7.2"
  }
 },
 "nbformat": 4,
 "nbformat_minor": 2
}
